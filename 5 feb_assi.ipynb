{
 "cells": [
  {
   "cell_type": "code",
   "execution_count": 3,
   "id": "d8dff3fa-80d5-4733-a3f9-8caca66459f2",
   "metadata": {},
   "outputs": [
    {
     "data": {
      "text/plain": [
       "' In this example, the __init__ method is called when an object of the class is created, \\nand it initializes the object\\'s attributes. The start, stop, accelerate, and brake methods are \\nexamples of behaviors that the Car class might have. The my_car object represents a specific car that has the attributes \\n\"blue\", \"Honda\", \"Civic\", 2015, and 50000 for color, make, model, year, and mileage, respectively.'"
      ]
     },
     "execution_count": 3,
     "metadata": {},
     "output_type": "execute_result"
    }
   ],
   "source": [
    "\"\"\" ANS 1 :-----In object-oriented programming (OOP), a class is a blueprint or template for creating objects that encapsulate properties (attributes) and behaviors (methods). Objects are instances of a class, created from the class blueprint, that can be manipulated and interacted with.\n",
    "\n",
    "For example, let's consider a class called \"Car\". This class might have attributes such as \"color\", \"make\", \"model\", \"year\", and \"mileage\", and methods such as \"start\", \"stop\", \"accelerate\", and \"brake\". An object of this class could represent a specific car, such as a blue 2015 Honda Civic with 50,000 miles on it.\n",
    "\n",
    "Here's an example code snippet in Python that defines a Car class and creates an object of the class:\"\"\"\n",
    "\n",
    "class Car:\n",
    "    def __init__(self, color, make, model, year, mileage):\n",
    "        self.color = color\n",
    "        self.make = make\n",
    "        self.model = model\n",
    "        self.year = year\n",
    "        self.mileage = mileage\n",
    "    \n",
    "    def start(self):\n",
    "        print(\"Starting the car...\")\n",
    "    \n",
    "    def stop(self):\n",
    "        print(\"Stopping the car...\")\n",
    "    \n",
    "    def accelerate(self):\n",
    "        print(\"Accelerating the car...\")\n",
    "    \n",
    "    def brake(self):\n",
    "        print(\"Braking the car...\")\n",
    "\n",
    "my_car = Car(\"blue\", \"Honda\", \"Civic\", 2015, 50000)\n",
    "\n",
    "\"\"\" In this example, the __init__ method is called when an object of the class is created, \n",
    "and it initializes the object's attributes. The start, stop, accelerate, and brake methods are \n",
    "examples of behaviors that the Car class might have. The my_car object represents a specific car that has the attributes \n",
    "\"blue\", \"Honda\", \"Civic\", 2015, and 50000 for color, make, model, year, and mileage, respectively.\"\"\""
   ]
  },
  {
   "cell_type": "code",
   "execution_count": 2,
   "id": "57e551f0-b2d2-4f42-b789-26e3c5469b4b",
   "metadata": {},
   "outputs": [],
   "source": [
    "# ANS 2"
   ]
  },
  {
   "cell_type": "code",
   "execution_count": 4,
   "id": "63c9f2cb-893d-4aca-89a1-cf5a77b6bb1c",
   "metadata": {},
   "outputs": [
    {
     "data": {
      "text/plain": [
       "'The four pillars of object-oriented programming (OOP) are:\\n\\nEncapsulation: \\nThis refers to the practice of hiding the implementation details of an object from the outside world \\nand exposing only the necessary interfaces for interacting with it. Encapsulation helps to achieve data\\nabstraction, reduces complexity, and protects the internal state of an object.\\n\\nInheritance:\\nThis is a mechanism by which one class can inherit properties and behaviors from another class.\\nThe class that is being inherited from is called the base or parent class, while the class that inherits from \\nit is called the derived or child class. Inheritance enables code reuse, promotes modularity, and facilitates polymorphism.\\n\\nPolymorphism: \\nThis is the ability of an object to take on different forms or behaviors depending on the context in which it is used.\\nPolymorphism can be achieved through method overloading or method overriding, which allow different methods\\nto be called depending on the number or types of arguments passed, or the type of object invoking the method.\\n\\nAbstraction: \\nThis refers to the practice of modeling complex systems by breaking them down into smaller,\\nmore manageable parts or abstractions. Abstraction involves identifying the essential features of an object\\nor system and ignoring the irrelevant details. Abstraction helps to reduce complexity, increase modularity,\\nand promote code reuse.\\n'"
      ]
     },
     "execution_count": 4,
     "metadata": {},
     "output_type": "execute_result"
    }
   ],
   "source": [
    "\"\"\"The four pillars of object-oriented programming (OOP) are:\n",
    "\n",
    "Encapsulation: \n",
    "This refers to the practice of hiding the implementation details of an object from the outside world \n",
    "and exposing only the necessary interfaces for interacting with it. Encapsulation helps to achieve data\n",
    "abstraction, reduces complexity, and protects the internal state of an object.\n",
    "\n",
    "Inheritance:\n",
    "This is a mechanism by which one class can inherit properties and behaviors from another class.\n",
    "The class that is being inherited from is called the base or parent class, while the class that inherits from \n",
    "it is called the derived or child class. Inheritance enables code reuse, promotes modularity, and facilitates polymorphism.\n",
    "\n",
    "Polymorphism: \n",
    "This is the ability of an object to take on different forms or behaviors depending on the context in which it is used.\n",
    "Polymorphism can be achieved through method overloading or method overriding, which allow different methods\n",
    "to be called depending on the number or types of arguments passed, or the type of object invoking the method.\n",
    "\n",
    "Abstraction: \n",
    "This refers to the practice of modeling complex systems by breaking them down into smaller,\n",
    "more manageable parts or abstractions. Abstraction involves identifying the essential features of an object\n",
    "or system and ignoring the irrelevant details. Abstraction helps to reduce complexity, increase modularity,\n",
    "and promote code reuse.\n",
    "\"\"\""
   ]
  },
  {
   "cell_type": "code",
   "execution_count": 5,
   "id": "e010f3b5-e6b8-4266-85c7-4538ce3d27b5",
   "metadata": {},
   "outputs": [],
   "source": [
    "#ANS 3"
   ]
  },
  {
   "cell_type": "code",
   "execution_count": 7,
   "id": "45d05d29-6702-43a8-9145-46e6b3273c5d",
   "metadata": {},
   "outputs": [
    {
     "name": "stdout",
     "output_type": "stream",
     "text": [
      "50\n",
      "30\n"
     ]
    },
    {
     "data": {
      "text/plain": [
       "'\\nIn this example, we define a class called Rectangle that has two attributes, width and height, and two methods, area() and perimeter(). The __init__() method takes two parameters, width and height, and initializes the corresponding attributes of the object with the values passed to it.\\n\\nWhen we create an object of the Rectangle class using rect = Rectangle(5, 10), the __init__() method is called automatically and initializes the width and height attributes of the rect object to 5 and 10, respectively.\\n\\nWe can then call the area() and perimeter() methods on the rect object to calculate its area and perimeter, which in this case would be 50 and 30, respectively.\\n\\nIn summary, the __init__() function is used to initialize the attributes of an object with some initial or default values when the object is created. It is a special method that is automatically called when an object is created from a class.\\n'"
      ]
     },
     "execution_count": 7,
     "metadata": {},
     "output_type": "execute_result"
    }
   ],
   "source": [
    "\"\"\"\n",
    "In object-oriented programming, the __init__() function is a special method that is called when an object is created from \n",
    "a class. The purpose of the __init__() method is to initialize the object's attributes with some initial values or default\n",
    "values.\n",
    "\n",
    "Here's an example in Python to illustrate the use of the __init__() function:\n",
    "\"\"\"\n",
    "\n",
    "class Rectangle:\n",
    "    def __init__(self, width, height):\n",
    "        self.width = width\n",
    "        self.height = height\n",
    "    \n",
    "    def area(self):\n",
    "        return self.width * self.height\n",
    "    \n",
    "    def perimeter(self):\n",
    "        return 2 * (self.width + self.height)\n",
    "\n",
    "rect = Rectangle(5, 10)\n",
    "print(rect.area())\n",
    "print(rect.perimeter())\n",
    "\n",
    "\"\"\"\n",
    "In this example, we define a class called Rectangle that has two attributes, width and height, and two methods, area() \n",
    "and perimeter(). The __init__() method takes two parameters, width and height, and initializes the corresponding attributes \n",
    "of the object with the values passed to it.\n",
    "\n",
    "When we create an object of the Rectangle class using\n",
    "rect = Rectangle(5, 10), the __init__() method is called automatically \n",
    "and initializes the width and height attributes of the rect object to 5 and 10, respectively.\n",
    "\n",
    "We can then call the area() and perimeter()\n",
    "methods on the rect object to calculate its area and perimeter, which in this case would be 50 and 30, respectively.\n",
    "\n",
    "In summary, the __init__() function is used to initialize the attributes \n",
    "of an object with some initial or default values when the object is created. It is a special method that\n",
    "is automatically called when an object is created from a class.\n",
    "\"\"\""
   ]
  },
  {
   "cell_type": "code",
   "execution_count": 8,
   "id": "4465a75a-6933-4fa0-850d-a49ac760fe34",
   "metadata": {},
   "outputs": [],
   "source": [
    "#ANS 4"
   ]
  },
  {
   "cell_type": "code",
   "execution_count": 12,
   "id": "91e90f44-2ccf-4ba8-bfe9-06ca42a02231",
   "metadata": {},
   "outputs": [
    {
     "name": "stdout",
     "output_type": "stream",
     "text": [
      "hi how r u  satya  your age is 20\n"
     ]
    }
   ],
   "source": [
    "\"\"\"\n",
    "In object-oriented programming, self is a reference variable that is used to refer to the instance of a class. \n",
    "When a method is called on an object, self is implicitly passed as the first argument to the method.\n",
    "self is used to access the attributes and methods of the object within the method.\n",
    "\n",
    "Here's an example in Python to illustrate the use of self:\n",
    "\"\"\"\n",
    "\n",
    "class Person:\n",
    "    def __init__(self,name,age):\n",
    "        self.name=name\n",
    "        self.age=age\n",
    "    \n",
    "    def hi(self):\n",
    "        print(\"hi how r u \",self.name,\" your age is\",self.age)\n",
    "        \n",
    "p=Person(\"satya\",20)\n",
    "p.hi()"
   ]
  },
  {
   "cell_type": "code",
   "execution_count": 13,
   "id": "48fb3ed6-d379-447a-99ab-88faa709f867",
   "metadata": {},
   "outputs": [],
   "source": [
    "#ANS 5"
   ]
  },
  {
   "cell_type": "code",
   "execution_count": 15,
   "id": "91e2f720-fb7d-48d2-aaa5-cd2aefdeb2e7",
   "metadata": {},
   "outputs": [
    {
     "name": "stdout",
     "output_type": "stream",
     "text": [
      "kuta\n",
      "bhaoooo\n",
      "bili\n",
      "meauuuu\n"
     ]
    }
   ],
   "source": [
    "\"\"\"\n",
    "\n",
    "class Animal:\n",
    "    def __init__(self, name):\n",
    "        self.name = name\n",
    "    \n",
    "    def speak(self):\n",
    "        pass\n",
    "\n",
    "class Dog(Animal):\n",
    "    def speak(self):\n",
    "        return \"Woof!\"\n",
    "\n",
    "class Cat(Animal):\n",
    "    def speak(self):\n",
    "        return \"Meow!\"\n",
    "\n",
    "dog = Dog(\"Fido\")\n",
    "cat = Cat(\"Fluffy\")\n",
    "\n",
    "print(dog.name)\n",
    "print(dog.speak())\n",
    "print(cat.name)\n",
    "print(cat.speak())\n"
   ]
  },
  {
   "cell_type": "code",
   "execution_count": null,
   "id": "3e4810b9-cf54-4cad-bfce-5c810eba6d29",
   "metadata": {},
   "outputs": [],
   "source": []
  }
 ],
 "metadata": {
  "kernelspec": {
   "display_name": "Python 3 (ipykernel)",
   "language": "python",
   "name": "python3"
  },
  "language_info": {
   "codemirror_mode": {
    "name": "ipython",
    "version": 3
   },
   "file_extension": ".py",
   "mimetype": "text/x-python",
   "name": "python",
   "nbconvert_exporter": "python",
   "pygments_lexer": "ipython3",
   "version": "3.10.8"
  }
 },
 "nbformat": 4,
 "nbformat_minor": 5
}
