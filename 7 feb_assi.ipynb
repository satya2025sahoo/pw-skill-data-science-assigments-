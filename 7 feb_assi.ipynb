{
 "cells": [
  {
   "cell_type": "code",
   "execution_count": 1,
   "id": "d3dcc73b-a761-4a22-baa7-8d29c2642f9d",
   "metadata": {},
   "outputs": [],
   "source": [
    "# ans 1"
   ]
  },
  {
   "cell_type": "code",
   "execution_count": 3,
   "id": "c266daed-1017-406d-b984-65f292427bc2",
   "metadata": {},
   "outputs": [],
   "source": [
    "def checkPassword(password):\n",
    "    if len(password)!=10:\n",
    "        return \"invalid password\"\n",
    "    upper=0\n",
    "    lower=0\n",
    "    digit=0\n",
    "    special=0\n",
    "    \n",
    "    for i in password:\n",
    "        if i.isupper():\n",
    "            upper+=1\n",
    "        elif i.islower():\n",
    "            lower+=1\n",
    "        elif i.isdigit():\n",
    "            digit+=1\n",
    "        elif i in '!@#$%^&*()':\n",
    "            special+=1\n",
    "    if upper<2 or lower<2 or digit<1 or special<3:\n",
    "        return \"invalid password\"\n",
    "    return \"valid password\""
   ]
  },
  {
   "cell_type": "code",
   "execution_count": 4,
   "id": "ff798bf8-1d38-4abc-a441-bd5d066f69dc",
   "metadata": {},
   "outputs": [],
   "source": [
    "# ans 2"
   ]
  },
  {
   "cell_type": "code",
   "execution_count": null,
   "id": "be30da7d-01bb-44a6-8312-027bee254924",
   "metadata": {},
   "outputs": [],
   "source": [
    "#Here are solutions to the given questions using lambda functions, filter functions, and list comprehensions:\n",
    "\n",
    "#1. Check if the string starts with a particular letter:\n",
    "\n",
    "string = \"Apple\"\n",
    "letter = \"A\"\n",
    "result = string.startswith(letter)\n",
    "print(result) # True\n",
    "\n",
    "\n",
    "#2. Check if the string is numeric:\n",
    "\n",
    "string = \"1234\"\n",
    "result = string.isnumeric()\n",
    "print(result) # True\n",
    "\n",
    "\n",
    "#3. Sort a list of tuples having fruit names and their quantity:\n",
    "\n",
    "fruits = [(\"mango\",99),(\"orange\",80), (\"grapes\", 1000)]\n",
    "result = sorted(fruits, key=lambda x: x[1])\n",
    "print(result) # [('orange', 80), ('mango', 99), ('grapes', 1000)]\n",
    "\n",
    "\n",
    "#4. Find the squares of numbers from 1 to 10:\n",
    "    \n",
    "result = [x**2 for x in range(1,11)]\n",
    "print(result) # [1, 4, 9, 16, 25, 36, 49, 64, 81, 100]\n",
    "\n",
    "\n",
    "#5. Find the cube root of numbers from 1 to 10:\n",
    "\n",
    "result = [round(x**(1/3),2) for x in range(1,11)]\n",
    "print(result) # [1.0, 1.26, 1.44, 1.59, 1.71, 1.82, 1.91, 2.0, 2.08, 2.15]\n",
    "\n",
    "\n",
    "#6. Check if a given number is even:\n",
    "\n",
    "number = 4\n",
    "result = number % 2 == 0\n",
    "print(result) # True\n",
    "\n",
    "\n",
    "#7. Filter odd numbers from the given list:\n",
    "\n",
    "numbers = [1,2,3,4,5,6,7,8,9,10]\n",
    "result = list(filter(lambda x: x % 2 !=0 , numbers))\n",
    "print(result) # [1,3,5,7,9]\n",
    "\n",
    "\n",
    "#8. Sort a list of integers into positive and negative integers lists:\n",
    "\n",
    "numbers = [1,-2,-3,-4,-5,-6,-7,-8,-9,-10]\n",
    "positive_numbers = list(filter(lambda x: x >0 , numbers))\n",
    "negative_numbers = list(filter(lambda x: x <0 , numbers))\n",
    "print(positive_numbers) # [1]\n",
    "print(negative_numbers) # [-2,-3,-4,-5,-6,-7,-8,-9,-10]\n"
   ]
  }
 ],
 "metadata": {
  "kernelspec": {
   "display_name": "Python 3 (ipykernel)",
   "language": "python",
   "name": "python3"
  },
  "language_info": {
   "codemirror_mode": {
    "name": "ipython",
    "version": 3
   },
   "file_extension": ".py",
   "mimetype": "text/x-python",
   "name": "python",
   "nbconvert_exporter": "python",
   "pygments_lexer": "ipython3",
   "version": "3.10.8"
  }
 },
 "nbformat": 4,
 "nbformat_minor": 5
}
