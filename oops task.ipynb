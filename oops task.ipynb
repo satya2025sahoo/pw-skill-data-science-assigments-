{
 "cells": [
  {
   "cell_type": "code",
   "execution_count": 7,
   "id": "d42bba84-3cf8-4724-a06a-78775225300d",
   "metadata": {},
   "outputs": [
    {
     "name": "stdout",
     "output_type": "stream",
     "text": [
      "Toyota Camry\n",
      "120\n",
      "60\n"
     ]
    }
   ],
   "source": [
    "#ans 1\n",
    "class Vehicle:\n",
    "    def __init__(self,name_of_vehicle, max_speed,average_of_vehicle):\n",
    "        self.name_of_vehicle=name_of_vehicle\n",
    "        self.max_speed=max_speed\n",
    "        self.average_of_vehicle=average_of_vehicle\n",
    "car = Vehicle(\"Toyota Camry\", 120, 60)\n",
    "print(car.name_of_vehicle)\n",
    "print(car.max_speed)\n",
    "print(car.average_of_vehicle)"
   ]
  },
  {
   "cell_type": "code",
   "execution_count": 9,
   "id": "fd9c762c-d04b-4846-9e57-53f6ef77b009",
   "metadata": {},
   "outputs": [],
   "source": [
    "#ans 2\n",
    "class Car(Vehicle):\n",
    "    def seating_capacity(self,n):\n",
    "        print(self.name_of_vehicle,\"have \",n,\" seats\")"
   ]
  },
  {
   "cell_type": "code",
   "execution_count": 10,
   "id": "a6301709-626c-4f50-9921-928bcb6e749f",
   "metadata": {},
   "outputs": [
    {
     "name": "stdout",
     "output_type": "stream",
     "text": [
      "Toyota Camry have  5  seats\n"
     ]
    }
   ],
   "source": [
    "car = Car(\"Toyota Camry\", 120, 60)\n",
    "car.seating_capacity(5)"
   ]
  },
  {
   "cell_type": "code",
   "execution_count": 13,
   "id": "af30c3f3-d0b0-4e4b-b4fd-3a06d41aa2ae",
   "metadata": {},
   "outputs": [
    {
     "name": "stdout",
     "output_type": "stream",
     "text": [
      "Animal speaking...\n",
      "Mammal running...\n",
      "Dog barking...\n"
     ]
    }
   ],
   "source": [
    "#ans 3\n",
    "class Animal:\n",
    "    def speak(self):\n",
    "        print(\"Animal speaking...\")\n",
    "\n",
    "class Mammal:\n",
    "    def run(self):\n",
    "        print(\"Mammal running...\")\n",
    "\n",
    "class Dog(Animal, Mammal):\n",
    "    def bark(self):\n",
    "        print(\"Dog barking...\")\n",
    "\n",
    "dog = Dog()\n",
    "dog.speak()    \n",
    "dog.run()     \n",
    "dog.bark() "
   ]
  },
  {
   "cell_type": "code",
   "execution_count": 14,
   "id": "c1f23f65-0475-4017-bb8b-cb419218513c",
   "metadata": {},
   "outputs": [
    {
     "name": "stdout",
     "output_type": "stream",
     "text": [
      "John\n",
      "Mike\n"
     ]
    }
   ],
   "source": [
    "#ans 4\n",
    "class Person:\n",
    "    def __init__(self, name, age):\n",
    "        self._name = name\n",
    "        self._age = age\n",
    "\n",
    "    def get_name(self):\n",
    "        return self._name\n",
    "\n",
    "    def set_name(self, name):\n",
    "        self._name = name\n",
    "\n",
    "person = Person(\"John\", 30)\n",
    "print(person.get_name())   \n",
    "person.set_name(\"Mike\")\n",
    "print(person.get_name())   "
   ]
  },
  {
   "cell_type": "code",
   "execution_count": null,
   "id": "57f18f4a-abe4-4518-a3a4-077852f377a7",
   "metadata": {},
   "outputs": [],
   "source": [
    "#ans 5\n",
    "class Animal:\n",
    "    def make_sound(self):\n",
    "        print(\"Generic animal sound...\")\n",
    "\n",
    "class Cat(Animal):\n",
    "    def make_sound(self):\n",
    "        print(\"Meow!\")\n",
    "\n",
    "class Dog(Animal):\n",
    "    def make_sound(self):\n",
    "        print(\"Woof!\")\n",
    "\n",
    "animal = Animal()\n",
    "animal.make_sound()   \n",
    "\n",
    "cat = Cat()\n",
    "cat.make_sound()      \n",
    "\n",
    "dog = Dog()\n",
    "dog.make_sound()      "
   ]
  }
 ],
 "metadata": {
  "kernelspec": {
   "display_name": "Python 3 (ipykernel)",
   "language": "python",
   "name": "python3"
  },
  "language_info": {
   "codemirror_mode": {
    "name": "ipython",
    "version": 3
   },
   "file_extension": ".py",
   "mimetype": "text/x-python",
   "name": "python",
   "nbconvert_exporter": "python",
   "pygments_lexer": "ipython3",
   "version": "3.10.8"
  }
 },
 "nbformat": 4,
 "nbformat_minor": 5
}
