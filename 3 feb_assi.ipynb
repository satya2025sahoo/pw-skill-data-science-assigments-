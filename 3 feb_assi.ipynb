{
 "cells": [
  {
   "cell_type": "code",
   "execution_count": 11,
   "id": "2a226df2-cbd0-4679-bf9b-7ebe4780bdf1",
   "metadata": {},
   "outputs": [
    {
     "name": "stdout",
     "output_type": "stream",
     "text": [
      "1\n",
      "3\n",
      "5\n",
      "7\n",
      "9\n",
      "11\n",
      "13\n",
      "15\n",
      "17\n",
      "19\n",
      "21\n",
      "23\n",
      "25\n"
     ]
    }
   ],
   "source": [
    "#The keyword used to create a function in Python is \"def\".\n",
    "\n",
    "def oddn():\n",
    "    for i in range(0,26):\n",
    "        if i%2!=0:\n",
    "            print(i)\n",
    "oddn()"
   ]
  },
  {
   "cell_type": "code",
   "execution_count": 10,
   "id": "11937b6d-58d5-4353-a3cd-260520c5dfb9",
   "metadata": {},
   "outputs": [
    {
     "name": "stdout",
     "output_type": "stream",
     "text": [
      "name : Alice\n",
      "age : 30\n",
      "city : New York\n"
     ]
    }
   ],
   "source": [
    "\"\"\"*args is used to pass a variable number of non-keyworded arguments to a function. \n",
    "The * symbol is used to denote the variable-length argument list. \n",
    "When the function is called, all the non-keyworded arguments are passed as a tuple to the function.\"\"\"\n",
    "\n",
    "def my_sum(*args):\n",
    "    total = 0\n",
    "    for num in args:\n",
    "        total += num\n",
    "    return total\n",
    "\n",
    "\"\"\"**kwargs is used to pass a variable number of keyword arguments to a function. \n",
    "The ** symbol is used to denote the variable-length keyword argument list.\n",
    "When the function is called, all the keyword arguments are passed as a dictionary to the function.\"\"\"\n",
    "\n",
    "def print_kwargs(**kwargs):\n",
    "    for key, value in kwargs.items():\n",
    "        print(key,\":\",value)\n",
    "        \n",
    "print_kwargs(name=\"Alice\", age=30, city=\"New York\")"
   ]
  },
  {
   "cell_type": "code",
   "execution_count": 12,
   "id": "6c3f80cc-fe72-4ead-9d40-4ed2f94b900a",
   "metadata": {},
   "outputs": [
    {
     "name": "stdout",
     "output_type": "stream",
     "text": [
      "2\n",
      "4\n",
      "6\n",
      "8\n",
      "10\n"
     ]
    }
   ],
   "source": [
    "\"\"\"An iterator in Python is an object that can be iterated (i.e. looped) upon,\n",
    "returning one element at a time.\n",
    "In other words, an iterator is an object that implements the iterator protocol,\n",
    "which consists of the methods __iter__() and __next__().\n",
    "\"\"\"\n",
    "\n",
    "my_list = [2, 4, 6, 8, 10, 12, 14, 16, 18, 20]\n",
    "my_iter = iter(my_list)\n",
    "\n",
    "for i in range(5):\n",
    "    print(next(my_iter))\n"
   ]
  },
  {
   "cell_type": "code",
   "execution_count": 13,
   "id": "b24e4574-e9ae-48bb-a0fa-3fc9ddf34678",
   "metadata": {},
   "outputs": [],
   "source": [
    "\"\"\"\n",
    "A generator function in Python is a special type of function that generates a sequence of values on-the-fly as it is being executed.\n",
    "Unlike regular functions,\n",
    "which compute all their values at once and return a single result,\n",
    "generator functions return an iterator that can be iterated over to generate values as needed.\n",
    "\"\"\"\n",
    "\n",
    "\"\"\"\n",
    "The yield keyword is used in a generator function to specify the values to be generated. \n",
    "When the yield statement is encountered,\n",
    "the function's state is saved,\n",
    "and the yielded value is returned to the caller.\n",
    "The next time the function is called,\n",
    "it resumes execution from where it left off and generates the next value in the sequence.\n",
    "\"\"\"\n",
    "\n",
    "def fibonacci():\n",
    "    a, b = 0, 1\n",
    "    while True:\n",
    "        yield a\n",
    "        a, b = b, a + b\n"
   ]
  },
  {
   "cell_type": "code",
   "execution_count": 14,
   "id": "a0b83b9b-fae6-42d2-8903-0b2e6c35eca8",
   "metadata": {},
   "outputs": [
    {
     "name": "stdout",
     "output_type": "stream",
     "text": [
      "2\n",
      "3\n",
      "5\n",
      "7\n",
      "11\n",
      "13\n",
      "17\n",
      "19\n",
      "23\n",
      "29\n",
      "31\n",
      "37\n",
      "41\n",
      "43\n",
      "47\n",
      "53\n",
      "59\n",
      "61\n",
      "67\n",
      "71\n"
     ]
    }
   ],
   "source": [
    "def prime_numbers():\n",
    "    num = 2\n",
    "    while True:\n",
    "        if all(num % i != 0 for i in range(2, int(num ** 0.5) + 1)):\n",
    "            yield num\n",
    "        num += 1\n",
    "        if num >= 1000:\n",
    "            break\n",
    "\n",
    "primes = prime_numbers()\n",
    "for i in range(20):\n",
    "    print(next(primes))\n",
    "\n"
   ]
  },
  {
   "cell_type": "code",
   "execution_count": 15,
   "id": "d14e2282-322d-45bd-be2c-880adab1d7de",
   "metadata": {},
   "outputs": [
    {
     "name": "stdout",
     "output_type": "stream",
     "text": [
      "0\n",
      "1\n",
      "1\n",
      "2\n",
      "3\n",
      "5\n",
      "8\n",
      "13\n",
      "21\n",
      "34\n"
     ]
    }
   ],
   "source": [
    "i=0\n",
    "a,b=0,1\n",
    "while(i<10):\n",
    "    print(a)\n",
    "    a,b=b,a+b\n",
    "    i+=1"
   ]
  },
  {
   "cell_type": "code",
   "execution_count": 18,
   "id": "da4b3ada-ff9e-452d-9075-44bc7f0146b6",
   "metadata": {},
   "outputs": [
    {
     "data": {
      "text/plain": [
       "['p', 'w', 's', 'k', 'i', 'l', 'l']"
      ]
     },
     "execution_count": 18,
     "metadata": {},
     "output_type": "execute_result"
    }
   ],
   "source": [
    "string=\"pwskill\"\n",
    "list(string)"
   ]
  },
  {
   "cell_type": "code",
   "execution_count": 29,
   "id": "a7e6519e-7121-4c1b-ab9f-ef2c93e0790e",
   "metadata": {},
   "outputs": [
    {
     "name": "stdin",
     "output_type": "stream",
     "text": [
      "enter a number 67\n"
     ]
    },
    {
     "name": "stdout",
     "output_type": "stream",
     "text": [
      "number is not Palindrome\n"
     ]
    }
   ],
   "source": [
    "a=int(input(\"enter a number\"))\n",
    "r=0\n",
    "n=a\n",
    "while(a!=0):\n",
    "    r=a%10+r*10\n",
    "    a=int(a/10)\n",
    "    \n",
    "if(r==n):\n",
    "    print(\"number is Palindrome\")\n",
    "else:\n",
    "    print(\"number is not Palindrome\")"
   ]
  },
  {
   "cell_type": "code",
   "execution_count": 30,
   "id": "3cf681ea-144a-4a56-a5d9-2b787ce209b6",
   "metadata": {},
   "outputs": [
    {
     "name": "stdout",
     "output_type": "stream",
     "text": [
      "[1, 3, 5, 7, 9, 11, 13, 15, 17, 19, 21, 23, 25, 27, 29, 31, 33, 35, 37, 39, 41, 43, 45, 47, 49, 51, 53, 55, 57, 59, 61, 63, 65, 67, 69, 71, 73, 75, 77, 79, 81, 83, 85, 87, 89, 91, 93, 95, 97, 99]\n"
     ]
    }
   ],
   "source": [
    "odd_numbers = [num for num in range(1, 101) if num % 2 != 0]\n",
    "print(odd_numbers)\n"
   ]
  },
  {
   "cell_type": "code",
   "execution_count": null,
   "id": "54815b1d-8ea6-4f57-98ec-e90a4b41b0fd",
   "metadata": {},
   "outputs": [],
   "source": []
  }
 ],
 "metadata": {
  "kernelspec": {
   "display_name": "Python 3 (ipykernel)",
   "language": "python",
   "name": "python3"
  },
  "language_info": {
   "codemirror_mode": {
    "name": "ipython",
    "version": 3
   },
   "file_extension": ".py",
   "mimetype": "text/x-python",
   "name": "python",
   "nbconvert_exporter": "python",
   "pygments_lexer": "ipython3",
   "version": "3.10.8"
  }
 },
 "nbformat": 4,
 "nbformat_minor": 5
}
