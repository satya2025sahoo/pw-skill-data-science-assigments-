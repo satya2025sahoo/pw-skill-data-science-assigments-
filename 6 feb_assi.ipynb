{
 "cells": [
  {
   "cell_type": "code",
   "execution_count": 1,
   "id": "408a438b-56c4-4e7f-81bc-59959c7d8fa8",
   "metadata": {},
   "outputs": [],
   "source": [
    "# ANS 1"
   ]
  },
  {
   "cell_type": "code",
   "execution_count": 5,
   "id": "17d7caaf-9cfa-4d7c-a0e1-f5e6fecf016d",
   "metadata": {},
   "outputs": [
    {
     "name": "stdout",
     "output_type": "stream",
     "text": [
      "0\n"
     ]
    }
   ],
   "source": [
    "import math\n",
    "\n",
    "def product_of_numbers(lst):\n",
    "    flat_list = []\n",
    "    for item in lst:\n",
    "        if isinstance(item, (int, float)):\n",
    "            flat_list.append(item)\n",
    "        elif isinstance(item, dict):\n",
    "            for val in item.values():\n",
    "                if isinstance(val, (int, float)):\n",
    "                    flat_list.append(val)\n",
    "        elif isinstance(item, list):\n",
    "            for elem in item:\n",
    "                if isinstance(elem, (int, float)):\n",
    "                    flat_list.append(elem)\n",
    "        elif isinstance(item, tuple):\n",
    "            for elem in item:\n",
    "                if isinstance(elem, (int, float)):\n",
    "                    flat_list.append(elem)\n",
    "    return math.prod(flat_list)\n",
    "\n",
    "list1 = [1,2,3,4, [44,55,66, True], False, (34,56,78,89,34), {1,2,3,3,2,1}, {1:34, \"key2\": [55, 67, 78, 89], 4: (45,22,61,34)}, [56, 'data science'], 'Machine Learning']\n",
    "\n",
    "print(product_of_numbers(list1))"
   ]
  },
  {
   "cell_type": "code",
   "execution_count": 6,
   "id": "451e613e-3d3c-499a-b3a9-1dec15875a9b",
   "metadata": {},
   "outputs": [],
   "source": [
    "#ANS 2"
   ]
  },
  {
   "cell_type": "code",
   "execution_count": null,
   "id": "590ffb61-5179-43bf-a8e9-46a1ca1c825b",
   "metadata": {},
   "outputs": [],
   "source": [
    "message = \"I want to become a Data Scientist.\"\n",
    "message = message.lower()\n",
    "encrypt_dict = {\n",
    "        'a': 'z', 'b': 'y', 'c': 'x', 'd': 'w', 'e': 'v', 'f': 'u',\n",
    "        'g': 't', 'h': 's', 'i': 'r', 'j': 'q', 'k': 'p', 'l': 'o',\n",
    "        'm': 'n', 'n': 'm', 'o': 'l', 'p': 'k', 'q': 'j', 'r': 'i',\n",
    "        's': 'h', 't': 'g', 'u': 'f', 'v': 'e', 'w': 'd', 'x': 'c',\n",
    "        'y': 'b', 'z': 'a'}\n",
    "\n",
    "message = message.replace(' ', '$')\n",
    "\n",
    "encrypted_message = ''\n",
    "for char in message:\n",
    "    if char in encrypt_dict:\n",
    "        encrypted_message += encrypt_dict[char]\n",
    "    else:\n",
    "        encrypted_message += char\n",
    "\n",
    "encrypted_message = encrypt_message(message)\n",
    "print(encrypted_message) # Output: r dzmhg gl yvorvn z wzt hvxivmgl.\n"
   ]
  }
 ],
 "metadata": {
  "kernelspec": {
   "display_name": "Python 3 (ipykernel)",
   "language": "python",
   "name": "python3"
  },
  "language_info": {
   "codemirror_mode": {
    "name": "ipython",
    "version": 3
   },
   "file_extension": ".py",
   "mimetype": "text/x-python",
   "name": "python",
   "nbconvert_exporter": "python",
   "pygments_lexer": "ipython3",
   "version": "3.10.8"
  }
 },
 "nbformat": 4,
 "nbformat_minor": 5
}
